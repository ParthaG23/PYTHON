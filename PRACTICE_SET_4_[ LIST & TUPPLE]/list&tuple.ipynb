{
 "cells": [
  {
   "cell_type": "markdown",
   "id": "2fb77f89",
   "metadata": {},
   "source": [
    "List: it is a contenar to store a set of values in different data type\n",
    "*create a list use squre[] bracaets"
   ]
  },
  {
   "cell_type": "code",
   "execution_count": 1,
   "id": "0642031a",
   "metadata": {},
   "outputs": [
    {
     "name": "stdout",
     "output_type": "stream",
     "text": [
      "[1, 2, 3, 4, 5]\n"
     ]
    }
   ],
   "source": [
    "a=[1,2,3,4,5]\n",
    "print(a)"
   ]
  },
  {
   "cell_type": "code",
   "execution_count": 2,
   "id": "8e3282ec",
   "metadata": {},
   "outputs": [
    {
     "name": "stdout",
     "output_type": "stream",
     "text": [
      "[8, 2, 3, 4, 5]\n"
     ]
    }
   ],
   "source": [
    "#change the value in list using index\n",
    "a[0]=8\n",
    "print(a)"
   ]
  },
  {
   "cell_type": "code",
   "execution_count": 3,
   "id": "cbfdf846",
   "metadata": {},
   "outputs": [
    {
     "name": "stdout",
     "output_type": "stream",
     "text": [
      "[8, 2, 3]\n"
     ]
    }
   ],
   "source": [
    "# list slicing\n",
    "print(a[0:3])"
   ]
  },
  {
   "cell_type": "markdown",
   "id": "222b3037",
   "metadata": {},
   "source": [
    "List method"
   ]
  },
  {
   "cell_type": "code",
   "execution_count": 9,
   "id": "3b14b176",
   "metadata": {},
   "outputs": [
    {
     "name": "stdout",
     "output_type": "stream",
     "text": [
      "[1, 2, 3, 5]\n",
      "[5, 3, 2, 1]\n",
      "[5, 3, 2, 1, 25]\n",
      "[5, 3, 9, 2, 1, 25]\n",
      "[5, 3, 9, 1, 25]\n",
      "[5, 3, 9, 1]\n"
     ]
    }
   ],
   "source": [
    "a=[3,2,5,1]\n",
    "a.sort()#sortthe lis\n",
    "print(a)\n",
    "a.reverse()#reverse the list\n",
    "print(a)\n",
    "a.append(25)#add  25 at the end of the list\n",
    "print(a)\n",
    "a.insert(2,9)#insert 9 in position 2\n",
    "print(a)\n",
    "a.pop(3)#will delete element at index 2 and return its value\n",
    "print(a)\n",
    "a.remove(25)#remove 25 on the list \n",
    "print(a)\n",
    "\n"
   ]
  },
  {
   "cell_type": "markdown",
   "id": "7662d321",
   "metadata": {},
   "source": [
    "Tuples"
   ]
  },
  {
   "cell_type": "code",
   "execution_count": null,
   "id": "984e5835",
   "metadata": {},
   "outputs": [],
   "source": []
  }
 ],
 "metadata": {
  "kernelspec": {
   "display_name": "base",
   "language": "python",
   "name": "python3"
  },
  "language_info": {
   "codemirror_mode": {
    "name": "ipython",
    "version": 3
   },
   "file_extension": ".py",
   "mimetype": "text/x-python",
   "name": "python",
   "nbconvert_exporter": "python",
   "pygments_lexer": "ipython3",
   "version": "3.11.7"
  }
 },
 "nbformat": 4,
 "nbformat_minor": 5
}
