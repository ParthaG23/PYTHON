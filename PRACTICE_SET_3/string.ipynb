{
 "cells": [
  {
   "cell_type": "markdown",
   "id": "76504deb",
   "metadata": {},
   "source": [
    "String Slicing"
   ]
  },
  {
   "cell_type": "code",
   "execution_count": 3,
   "id": "2f35f05c",
   "metadata": {},
   "outputs": [
    {
     "name": "stdout",
     "output_type": "stream",
     "text": [
      "pa\n",
      "ar\n"
     ]
    }
   ],
   "source": [
    "name=\"partha\"\n",
    "print(name[0:2])\n",
    "print(name[1:3])"
   ]
  },
  {
   "cell_type": "markdown",
   "id": "4189a3b9",
   "metadata": {},
   "source": [
    "Negetive indexing"
   ]
  },
  {
   "cell_type": "code",
   "execution_count": 5,
   "id": "9f8c8a8e",
   "metadata": {},
   "outputs": [
    {
     "name": "stdout",
     "output_type": "stream",
     "text": [
      "par\n",
      "arth\n"
     ]
    }
   ],
   "source": [
    "name=\"partha\"\n",
    "print(name[-6:-3])\n",
    "print(name[-5:-1])"
   ]
  },
  {
   "cell_type": "markdown",
   "id": "6438bf3a",
   "metadata": {},
   "source": [
    "Other advance method of string slicing"
   ]
  },
  {
   "cell_type": "code",
   "execution_count": 7,
   "id": "bc6b9450",
   "metadata": {},
   "outputs": [
    {
     "name": "stdout",
     "output_type": "stream",
     "text": [
      "parth\n",
      "parthaGayen\n"
     ]
    }
   ],
   "source": [
    "name=\"parthaGayen\"\n",
    "print(name[:5])\n",
    "print(name[0:])"
   ]
  },
  {
   "cell_type": "markdown",
   "id": "b7a8943a",
   "metadata": {},
   "source": [
    "String method"
   ]
  },
  {
   "cell_type": "code",
   "execution_count": 10,
   "id": "962b7c94",
   "metadata": {},
   "outputs": [
    {
     "name": "stdout",
     "output_type": "stream",
     "text": [
      "32\n",
      "True\n",
      "3\n",
      "One upon a time there was a gost\n",
      "22\n",
      "One upon a time there was a god\n"
     ]
    }
   ],
   "source": [
    "# Len()function\n",
    "story=\"One upon a time there was a gost\"\n",
    "print(len(story))\n",
    "\n",
    "# String.endswith()\n",
    "print(story.endswith(\"gost\")) #return boolean value like true or false\n",
    "\n",
    "# string.count() return total number of occanrance of any character\n",
    "print(story.count('a'))\n",
    "\n",
    "# string.capitalize\n",
    "print(story.capitalize())\n",
    "\n",
    "print(story.find('was'))\n",
    "print(story.replace(\"gost\",\"god\"))\n",
    "\n",
    "\n"
   ]
  },
  {
   "cell_type": "markdown",
   "id": "85ac79e6",
   "metadata": {},
   "source": [
    "Practice Question"
   ]
  },
  {
   "cell_type": "code",
   "execution_count": null,
   "id": "0b118500",
   "metadata": {},
   "outputs": [
    {
     "name": "stdout",
     "output_type": "stream",
     "text": [
      "good morning partha\n"
     ]
    }
   ],
   "source": [
    "# Q1-\n",
    "name=input(\"Enter your name\")\n",
    "print(\"Good morning \"+name)"
   ]
  },
  {
   "cell_type": "code",
   "execution_count": null,
   "id": "f0556c3f",
   "metadata": {},
   "outputs": [
    {
     "name": "stdout",
     "output_type": "stream",
     "text": [
      "Dear partha , You are selected 21aug\n"
     ]
    }
   ],
   "source": [
    "# Q2\n",
    "latter ='''Dear name , You are selected on date''';\n",
    "name=input(\"Enter your name:\");\n",
    "date=input (\"Enter date:\");\n",
    "latter=latter.replace(\"name\",name);\n",
    "latter=latter.replace(\"date\",date);\n",
    "print(latter)"
   ]
  },
  {
   "cell_type": "code",
   "execution_count": 15,
   "id": "afe01be5",
   "metadata": {},
   "outputs": [
    {
     "name": "stdout",
     "output_type": "stream",
     "text": [
      "10\n"
     ]
    }
   ],
   "source": [
    "# Q3 write program to detect double space\n",
    "name=\"my name is  partha\";\n",
    "print(name.find(\"  \")) "
   ]
  },
  {
   "cell_type": "code",
   "execution_count": null,
   "id": "6288bf74",
   "metadata": {},
   "outputs": [],
   "source": []
  }
 ],
 "metadata": {
  "kernelspec": {
   "display_name": "base",
   "language": "python",
   "name": "python3"
  },
  "language_info": {
   "codemirror_mode": {
    "name": "ipython",
    "version": 3
   },
   "file_extension": ".py",
   "mimetype": "text/x-python",
   "name": "python",
   "nbconvert_exporter": "python",
   "pygments_lexer": "ipython3",
   "version": "3.11.7"
  }
 },
 "nbformat": 4,
 "nbformat_minor": 5
}
